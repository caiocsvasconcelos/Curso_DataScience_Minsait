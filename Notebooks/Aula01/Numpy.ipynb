{
  "cells": [
    {
      "cell_type": "markdown",
      "metadata": {
        "id": "view-in-github",
        "colab_type": "text"
      },
      "source": [
        "<a href=\"https://colab.research.google.com/github/caiocsvasconcelos/Curso_DataScience_Minsait/blob/Data_Science/Notebooks/Aula01/Numpy.ipynb\" target=\"_parent\"><img src=\"https://colab.research.google.com/assets/colab-badge.svg\" alt=\"Open In Colab\"/></a>"
      ]
    },
    {
      "cell_type": "markdown",
      "metadata": {
        "id": "voBVRKznx7jY"
      },
      "source": [
        "# Python para Análise de Dados - Numpy   "
      ]
    },
    {
      "cell_type": "markdown",
      "metadata": {
        "id": "N2bqMsRqx7jf"
      },
      "source": [
        "<p> Iremos aprender a trabalhar coma biblioteca Numpy.\n"
      ]
    },
    {
      "cell_type": "code",
      "execution_count": 2,
      "metadata": {
        "id": "iT7HTzzrx7jg"
      },
      "outputs": [],
      "source": [
        "# Importando a biblioteca numpy\n",
        "import numpy as np"
      ]
    },
    {
      "cell_type": "code",
      "execution_count": 3,
      "metadata": {
        "id": "ZD_xnqy1x7jh"
      },
      "outputs": [],
      "source": [
        "# Criando um array de 1 dimensão\n",
        "one_dim = np.array([1,2,3,4])"
      ]
    },
    {
      "cell_type": "code",
      "execution_count": 4,
      "metadata": {
        "colab": {
          "base_uri": "https://localhost:8080/"
        },
        "id": "Civdxqepx7ji",
        "outputId": "99bf4724-73af-4145-b911-34001f2f40ea"
      },
      "outputs": [
        {
          "output_type": "execute_result",
          "data": {
            "text/plain": [
              "numpy.ndarray"
            ]
          },
          "metadata": {},
          "execution_count": 4
        }
      ],
      "source": [
        "type(one_dim)"
      ]
    },
    {
      "cell_type": "code",
      "execution_count": 5,
      "metadata": {
        "colab": {
          "base_uri": "https://localhost:8080/"
        },
        "id": "_gZVtGoyx7jj",
        "outputId": "36c94423-e77e-4f4c-e0a4-4dd79ca7a851"
      },
      "outputs": [
        {
          "output_type": "execute_result",
          "data": {
            "text/plain": [
              "1"
            ]
          },
          "metadata": {},
          "execution_count": 5
        }
      ],
      "source": [
        "# Imprimindo um array.\n",
        "one_dim.ndim"
      ]
    },
    {
      "cell_type": "code",
      "execution_count": null,
      "metadata": {
        "id": "7VvfQvlDx7jk"
      },
      "outputs": [],
      "source": [
        "# Criando um array de 2 dimensões.\n",
        "two_dim = np.array([(1,2,3), (4,5,6)])"
      ]
    },
    {
      "cell_type": "code",
      "execution_count": null,
      "metadata": {
        "id": "au2FUV_Cx7jl",
        "outputId": "53bd0508-21ec-43a8-eeac-3aa82bf35d2a"
      },
      "outputs": [
        {
          "data": {
            "text/plain": [
              "2"
            ]
          },
          "execution_count": 6,
          "metadata": {},
          "output_type": "execute_result"
        }
      ],
      "source": [
        "# Imprimindo o array\n",
        "two_dim.ndim"
      ]
    },
    {
      "cell_type": "code",
      "execution_count": null,
      "metadata": {
        "id": "2YGTACm8x7jm",
        "outputId": "77195154-2983-4168-d321-01333df7b5f1"
      },
      "outputs": [
        {
          "data": {
            "text/plain": [
              "array([[0.15602492, 0.00436481],\n",
              "       [0.0056985 , 0.64874345],\n",
              "       [0.33440417, 0.62976834],\n",
              "       [0.78467376, 0.92567222],\n",
              "       [0.59192061, 0.90153326]])"
            ]
          },
          "execution_count": 7,
          "metadata": {},
          "output_type": "execute_result"
        }
      ],
      "source": [
        "# Cria um array de números aleatórios.\n",
        "# Um array de 5 linhas e duas dimensões.\n",
        "np.random.random((5,2))"
      ]
    },
    {
      "cell_type": "code",
      "execution_count": null,
      "metadata": {
        "id": "p97sVC7sx7jn",
        "outputId": "1355d4fc-0dc8-4c68-f557-b162b2be775e"
      },
      "outputs": [
        {
          "data": {
            "text/plain": [
              "array([10, 15, 20, 25, 30, 35, 40, 45])"
            ]
          },
          "execution_count": 8,
          "metadata": {},
          "output_type": "execute_result"
        }
      ],
      "source": [
        "# Cria um array com valores esparsos iniciando com o valor 10, menor que 50 e incrementando de 5 em 5.\n",
        "np.arange(10,50,5)"
      ]
    },
    {
      "cell_type": "code",
      "execution_count": null,
      "metadata": {
        "id": "aiBrd4Wmx7jo",
        "outputId": "e3fe3c15-cc23-408b-ca68-a6e4cf466504"
      },
      "outputs": [
        {
          "data": {
            "text/plain": [
              "array([0.  , 0.25, 0.5 , 0.75, 1.  , 1.25, 1.5 , 1.75, 2.  ])"
            ]
          },
          "execution_count": 9,
          "metadata": {},
          "output_type": "execute_result"
        }
      ],
      "source": [
        "# cria um array linear de 0 a 2 de no máximo 9 elementos.\n",
        "np.linspace(0,2,9)"
      ]
    },
    {
      "cell_type": "code",
      "execution_count": null,
      "metadata": {
        "id": "G0Lv72kqx7jo",
        "outputId": "a3d0f20b-6cb2-498f-993c-29ee6bc3f9c3"
      },
      "outputs": [
        {
          "data": {
            "text/plain": [
              "array([[0., 0., 0., 0.],\n",
              "       [0., 0., 0., 0.],\n",
              "       [0., 0., 0., 0.]])"
            ]
          },
          "execution_count": 10,
          "metadata": {},
          "output_type": "execute_result"
        }
      ],
      "source": [
        "# Cria um array de valores zero.\n",
        "# Cria um array com 3 linhas e 4 dimensões.\n",
        "np.zeros((3,4))"
      ]
    },
    {
      "cell_type": "markdown",
      "metadata": {
        "id": "o3eLjrjRx7jp"
      },
      "source": [
        "# Numpy Arrays Vs Listas"
      ]
    },
    {
      "cell_type": "markdown",
      "metadata": {
        "id": "ZdPbOs0bx7jp"
      },
      "source": [
        "- Arrays Numpy permitem fazermos operações em **arrays inteiros** de forma rápida.\n",
        "- Listas não permitem operações em todos os elementos da lista.\n",
        "- Para operações em todos os elementos é preciso interar sobre toda a lista.\n",
        "- Listas em Python armazenam diferentes tipos de objetos\n",
        "- Arrays Numpy considera todos os elementos de tipos distintos como strings\n"
      ]
    },
    {
      "cell_type": "code",
      "execution_count": null,
      "metadata": {
        "id": "QHaUpIjTx7jp"
      },
      "outputs": [],
      "source": [
        "# Criando uma lista em Python.\n",
        "lista = [1,2,3]"
      ]
    },
    {
      "cell_type": "code",
      "execution_count": null,
      "metadata": {
        "id": "Gh6aFQvox7jp",
        "outputId": "5f34c200-4dd1-4533-aea4-35a1dda12411"
      },
      "outputs": [
        {
          "data": {
            "text/plain": [
              "[1, 2, 3]"
            ]
          },
          "execution_count": 12,
          "metadata": {},
          "output_type": "execute_result"
        }
      ],
      "source": [
        "lista"
      ]
    },
    {
      "cell_type": "code",
      "execution_count": null,
      "metadata": {
        "id": "mrlnsFhbx7jq",
        "outputId": "f50ec4b9-5ac7-44b5-e7c0-362436dd8a8c"
      },
      "outputs": [
        {
          "data": {
            "text/plain": [
              "[1, 2, 3, 1, 2, 3]"
            ]
          },
          "execution_count": 13,
          "metadata": {},
          "output_type": "execute_result"
        }
      ],
      "source": [
        "# Multiplicar valores da lista por 2.\n",
        "lista * 2"
      ]
    },
    {
      "cell_type": "code",
      "execution_count": null,
      "metadata": {
        "id": "bXTj91c5x7jq"
      },
      "outputs": [],
      "source": [
        "# Transforme a variável lista em um array Numpy\n",
        "lista = np.array(lista)"
      ]
    },
    {
      "cell_type": "code",
      "execution_count": null,
      "metadata": {
        "id": "9su9UElMx7jq",
        "outputId": "edc85b4f-79ff-4c2e-99f8-f1c21882cadd"
      },
      "outputs": [
        {
          "data": {
            "text/plain": [
              "numpy.ndarray"
            ]
          },
          "execution_count": 15,
          "metadata": {},
          "output_type": "execute_result"
        }
      ],
      "source": [
        "# Imprimindo o tipo do objeto.\n",
        "type(lista)"
      ]
    },
    {
      "cell_type": "code",
      "execution_count": null,
      "metadata": {
        "id": "oLXbS7OQx7jq",
        "outputId": "a0a5b6ca-bc1f-4e64-9412-0e421ada9de8"
      },
      "outputs": [
        {
          "data": {
            "text/plain": [
              "array([2, 4, 6])"
            ]
          },
          "execution_count": 16,
          "metadata": {},
          "output_type": "execute_result"
        }
      ],
      "source": [
        "# Multiplicando cada elemento por 2.\n",
        "lista * 2"
      ]
    },
    {
      "cell_type": "code",
      "execution_count": null,
      "metadata": {
        "id": "S2xnk1sXx7jq"
      },
      "outputs": [],
      "source": [
        "# Calcular IMC de pessoas.\n",
        "pesos = [67,81,120,90]\n",
        "altura = [1.68,1.70,1.75,1.85]"
      ]
    },
    {
      "cell_type": "code",
      "execution_count": null,
      "metadata": {
        "id": "3FwoNksXx7jr",
        "outputId": "6071a605-bd1a-406e-8df2-03ec4c38c49c"
      },
      "outputs": [
        {
          "ename": "TypeError",
          "evalue": "unsupported operand type(s) for ** or pow(): 'list' and 'int'",
          "output_type": "error",
          "traceback": [
            "\u001b[1;31m---------------------------------------------------------------------------\u001b[0m",
            "\u001b[1;31mTypeError\u001b[0m                                 Traceback (most recent call last)",
            "\u001b[1;32mC:\\Users\\TALMEI~1\\AppData\\Local\\Temp/ipykernel_12632/2643097884.py\u001b[0m in \u001b[0;36m<module>\u001b[1;34m\u001b[0m\n\u001b[0;32m      1\u001b[0m \u001b[1;31m# Faz o calculo usando as listas\u001b[0m\u001b[1;33m\u001b[0m\u001b[1;33m\u001b[0m\u001b[0m\n\u001b[1;32m----> 2\u001b[1;33m \u001b[0mpesos\u001b[0m \u001b[1;33m/\u001b[0m \u001b[0maltura\u001b[0m \u001b[1;33m**\u001b[0m \u001b[1;36m2\u001b[0m\u001b[1;33m\u001b[0m\u001b[1;33m\u001b[0m\u001b[0m\n\u001b[0m",
            "\u001b[1;31mTypeError\u001b[0m: unsupported operand type(s) for ** or pow(): 'list' and 'int'"
          ]
        }
      ],
      "source": [
        "# Faz o calculo usando as listas\n",
        "pesos / altura ** 2"
      ]
    },
    {
      "cell_type": "code",
      "execution_count": null,
      "metadata": {
        "id": "2LUd-Sa0x7jr"
      },
      "outputs": [],
      "source": [
        "# Transforme isso em arrays numpy\n",
        "pesos = np.array(pesos)\n",
        "altura = np.array(altura)"
      ]
    },
    {
      "cell_type": "code",
      "execution_count": null,
      "metadata": {
        "id": "XrRly4C1x7jr",
        "outputId": "321c7fb8-2926-4b0f-bf43-44eb2e43b533"
      },
      "outputs": [
        {
          "data": {
            "text/plain": [
              "array([23.73866213, 28.02768166, 39.18367347, 26.29656684])"
            ]
          },
          "execution_count": 20,
          "metadata": {},
          "output_type": "execute_result"
        }
      ],
      "source": [
        "# Imprime o calculo de cada valor\n",
        "pesos / altura **2"
      ]
    },
    {
      "cell_type": "code",
      "execution_count": null,
      "metadata": {
        "id": "mmaTBPHkx7jr"
      },
      "outputs": [],
      "source": [
        "# Arrays Numpy armazena elementos como strings quando estes não são inteiros ou float\n",
        "a = np.array([1,3,'Casa',True])"
      ]
    },
    {
      "cell_type": "code",
      "execution_count": null,
      "metadata": {
        "id": "PMzxK5tmx7js",
        "outputId": "dd30eb7f-081f-4d4b-f353-bb57edc02ede"
      },
      "outputs": [
        {
          "data": {
            "text/plain": [
              "array(['1', '3', 'Casa', 'True'], dtype='<U11')"
            ]
          },
          "execution_count": 7,
          "metadata": {},
          "output_type": "execute_result"
        }
      ],
      "source": [
        "a"
      ]
    },
    {
      "cell_type": "code",
      "execution_count": null,
      "metadata": {
        "id": "RTrcK4TXx7js",
        "outputId": "d7762e1d-c9d4-4f24-b039-268ec7ac24b5"
      },
      "outputs": [
        {
          "ename": "UFuncTypeError",
          "evalue": "ufunc 'multiply' did not contain a loop with signature matching types (dtype('<U11'), dtype('<U11')) -> dtype('<U11')",
          "output_type": "error",
          "traceback": [
            "\u001b[1;31m---------------------------------------------------------------------------\u001b[0m",
            "\u001b[1;31mUFuncTypeError\u001b[0m                            Traceback (most recent call last)",
            "\u001b[1;32mC:\\Users\\TALMEI~1\\AppData\\Local\\Temp/ipykernel_12632/2172713831.py\u001b[0m in \u001b[0;36m<module>\u001b[1;34m\u001b[0m\n\u001b[1;32m----> 1\u001b[1;33m \u001b[0ma\u001b[0m \u001b[1;33m*\u001b[0m \u001b[1;36m2\u001b[0m\u001b[1;33m\u001b[0m\u001b[1;33m\u001b[0m\u001b[0m\n\u001b[0m",
            "\u001b[1;31mUFuncTypeError\u001b[0m: ufunc 'multiply' did not contain a loop with signature matching types (dtype('<U11'), dtype('<U11')) -> dtype('<U11')"
          ]
        }
      ],
      "source": [
        "a * 2"
      ]
    },
    {
      "cell_type": "code",
      "execution_count": null,
      "metadata": {
        "id": "HIhAETeBx7js",
        "outputId": "e00d932a-b226-415b-dfc2-c34c9979b917"
      },
      "outputs": [
        {
          "data": {
            "text/plain": [
              "array(['1', '3', 'Casa', 'True', '1', '3', 'Casa', 'True'], dtype='<U11')"
            ]
          },
          "execution_count": 8,
          "metadata": {},
          "output_type": "execute_result"
        }
      ],
      "source": [
        "# repete o valor do array 2 vezes.\n",
        "np.tile(a, 2)"
      ]
    },
    {
      "cell_type": "code",
      "execution_count": null,
      "metadata": {
        "id": "NN-6qIapx7js",
        "outputId": "381d97e1-ece9-49ba-f628-832e47942aa6"
      },
      "outputs": [
        {
          "data": {
            "text/plain": [
              "[1, 3, 'Casa', True]"
            ]
          },
          "execution_count": 52,
          "metadata": {},
          "output_type": "execute_result"
        }
      ],
      "source": [
        "lista = [1,3,'Casa',True]\n",
        "lista"
      ]
    },
    {
      "cell_type": "code",
      "execution_count": null,
      "metadata": {
        "id": "K2xMzABTx7js",
        "outputId": "a99775c0-0a9d-4129-ad21-fa591a09ce66"
      },
      "outputs": [
        {
          "data": {
            "text/plain": [
              "[1, 3, 'Casa', True, 1, 3, 'Casa', True]"
            ]
          },
          "execution_count": 53,
          "metadata": {},
          "output_type": "execute_result"
        }
      ],
      "source": [
        "lista * 2"
      ]
    },
    {
      "cell_type": "code",
      "execution_count": null,
      "metadata": {
        "id": "4416zXpUx7js",
        "outputId": "0553bb19-301e-4179-abd8-3d592647ccb9"
      },
      "outputs": [
        {
          "data": {
            "text/plain": [
              "[10, 15, 20, 25, 30, 35, 40, 45]"
            ]
          },
          "execution_count": 55,
          "metadata": {},
          "output_type": "execute_result"
        }
      ],
      "source": [
        "lista = [i for i in range(10,50,5)]\n",
        "lista"
      ]
    },
    {
      "cell_type": "code",
      "execution_count": null,
      "metadata": {
        "id": "dskmK8iUx7jt",
        "outputId": "bfb55bfe-d92b-4862-9bd4-d0a21efcec03"
      },
      "outputs": [
        {
          "name": "stdout",
          "output_type": "stream",
          "text": [
            "Média:27.5\n"
          ]
        }
      ],
      "source": [
        "soma = 0\n",
        "for i in lista:\n",
        "    soma +=i\n",
        "\n",
        "print('Média:' + str(soma/len(lista)))"
      ]
    },
    {
      "cell_type": "code",
      "execution_count": null,
      "metadata": {
        "id": "okO1Z_c2x7jt",
        "outputId": "2eb128a8-20c6-4168-ff8b-7cd48728ee1e"
      },
      "outputs": [
        {
          "data": {
            "text/plain": [
              "array([10, 15, 20, 25, 30, 35, 40, 45])"
            ]
          },
          "execution_count": 3,
          "metadata": {},
          "output_type": "execute_result"
        }
      ],
      "source": [
        "n_array = np.arange(10,50,5)\n",
        "n_array"
      ]
    },
    {
      "cell_type": "code",
      "execution_count": null,
      "metadata": {
        "id": "dSIYdIIox7jt",
        "outputId": "0ccacb9c-f8c7-4192-f685-64fde979bc78"
      },
      "outputs": [
        {
          "data": {
            "text/plain": [
              "27.5"
            ]
          },
          "execution_count": 4,
          "metadata": {},
          "output_type": "execute_result"
        }
      ],
      "source": [
        "n_array.mean()"
      ]
    },
    {
      "cell_type": "code",
      "execution_count": null,
      "metadata": {
        "id": "eD_8H5ijx7jt",
        "outputId": "e9c7d5d7-acee-4965-a0e1-c371a6ae78f0"
      },
      "outputs": [
        {
          "name": "stdout",
          "output_type": "stream",
          "text": [
            "Wall time: 26.2 ms\n",
            "Tempo de CPU: 0.028210878372192383 segundos\n",
            "Wall time: 11 ms\n",
            "Tempo de CPU: 0.01307225227355957 segundos\n",
            "Wall time: 0 ns\n",
            "Tempo de CPU: 0.0010726451873779297 segundos\n"
          ]
        }
      ],
      "source": [
        "import time\n",
        "l1 = list(range(100000))\n",
        "l2 = np.arange(100000)\n",
        "\n",
        "start_time = time.time()\n",
        "%time for i in range(len(l1)): l1[i] = l1[i]*2\n",
        "end_time = time.time()\n",
        "cpu_time = end_time - start_time\n",
        "\n",
        "print(\"Tempo de CPU:\", cpu_time, \"segundos\")\n",
        "\n",
        "start_time = time.time()\n",
        "%time l = [i*2 for i in l1]\n",
        "end_time = time.time()\n",
        "cpu_time = end_time - start_time\n",
        "\n",
        "print(\"Tempo de CPU:\", cpu_time, \"segundos\")\n",
        "\n",
        "start_time = time.time()\n",
        "%time l2 = l2 * 2\n",
        "end_time = time.time()\n",
        "cpu_time = end_time - start_time\n",
        "\n",
        "print(\"Tempo de CPU:\", cpu_time, \"segundos\")\n",
        "#%time for i in range(100)"
      ]
    },
    {
      "cell_type": "code",
      "execution_count": null,
      "metadata": {
        "id": "6OYXYzzXx7jt",
        "outputId": "29ce31d8-23ca-442d-8976-03001a976699"
      },
      "outputs": [
        {
          "data": {
            "text/plain": [
              "[10, 15, 20, 25, 30, 35, 40, 45]"
            ]
          },
          "execution_count": 65,
          "metadata": {},
          "output_type": "execute_result"
        }
      ],
      "source": [
        "lista"
      ]
    },
    {
      "cell_type": "code",
      "execution_count": null,
      "metadata": {
        "id": "qTywMRUNx7jt",
        "outputId": "9ef87deb-8659-4599-f0f4-368b9dec4fb2"
      },
      "outputs": [
        {
          "data": {
            "text/plain": [
              "10"
            ]
          },
          "execution_count": 68,
          "metadata": {},
          "output_type": "execute_result"
        }
      ],
      "source": [
        "lista[0]"
      ]
    },
    {
      "cell_type": "code",
      "execution_count": null,
      "metadata": {
        "id": "o3MUTfkSx7ju",
        "outputId": "ed4fbba6-444e-4a16-d926-b2acc7a1fda9"
      },
      "outputs": [
        {
          "ename": "TypeError",
          "evalue": "'>' not supported between instances of 'list' and 'int'",
          "output_type": "error",
          "traceback": [
            "\u001b[1;31m---------------------------------------------------------------------------\u001b[0m",
            "\u001b[1;31mTypeError\u001b[0m                                 Traceback (most recent call last)",
            "\u001b[1;32mC:\\Users\\TALMEI~1\\AppData\\Local\\Temp/ipykernel_12632/2359260420.py\u001b[0m in \u001b[0;36m<module>\u001b[1;34m\u001b[0m\n\u001b[1;32m----> 1\u001b[1;33m \u001b[0mlista\u001b[0m\u001b[1;33m[\u001b[0m\u001b[0mlista\u001b[0m\u001b[1;33m>\u001b[0m\u001b[1;36m20\u001b[0m\u001b[1;33m]\u001b[0m\u001b[1;33m\u001b[0m\u001b[1;33m\u001b[0m\u001b[0m\n\u001b[0m",
            "\u001b[1;31mTypeError\u001b[0m: '>' not supported between instances of 'list' and 'int'"
          ]
        }
      ],
      "source": [
        "lista[lista>20]"
      ]
    },
    {
      "cell_type": "code",
      "execution_count": null,
      "metadata": {
        "id": "8crnPuJWx7ju",
        "outputId": "ab01944b-c8af-47a1-9bb8-48661be87bdd"
      },
      "outputs": [
        {
          "data": {
            "text/plain": [
              "array([10, 15, 20, 25, 30, 35, 40, 45])"
            ]
          },
          "execution_count": 67,
          "metadata": {},
          "output_type": "execute_result"
        }
      ],
      "source": [
        "n_array"
      ]
    },
    {
      "cell_type": "code",
      "execution_count": null,
      "metadata": {
        "id": "0bmUqD6Yx7jz",
        "outputId": "04feaeb1-e2f8-4885-dcd9-4c230faba6f1"
      },
      "outputs": [
        {
          "data": {
            "text/plain": [
              "10"
            ]
          },
          "execution_count": 69,
          "metadata": {},
          "output_type": "execute_result"
        }
      ],
      "source": [
        "n_array[0]"
      ]
    },
    {
      "cell_type": "code",
      "execution_count": null,
      "metadata": {
        "id": "U9vF5L37x7j0",
        "outputId": "0e06a243-2b1f-485e-c26b-aef6a19bc99b"
      },
      "outputs": [
        {
          "data": {
            "text/plain": [
              "array([25, 30, 35, 40, 45])"
            ]
          },
          "execution_count": 73,
          "metadata": {},
          "output_type": "execute_result"
        }
      ],
      "source": [
        "n_array[n_array>20]"
      ]
    },
    {
      "cell_type": "markdown",
      "metadata": {
        "id": "KbwSXt3Jx7j0"
      },
      "source": [
        "# Métodos e Atributos Úteis"
      ]
    },
    {
      "cell_type": "code",
      "execution_count": null,
      "metadata": {
        "id": "J2RCSTKPx7j0"
      },
      "outputs": [],
      "source": [
        "# Métodos disponíveis (digite o . pressione tab).\n",
        "two_dim."
      ]
    },
    {
      "cell_type": "code",
      "execution_count": null,
      "metadata": {
        "id": "jYGS2pZ9x7j0",
        "outputId": "c8f11dc8-4ee2-49b4-d343-76a02392aec2"
      },
      "outputs": [
        {
          "data": {
            "text/plain": [
              "array([[1, 2, 3],\n",
              "       [4, 5, 6]])"
            ]
          },
          "execution_count": 25,
          "metadata": {},
          "output_type": "execute_result"
        }
      ],
      "source": [
        "two_dim"
      ]
    },
    {
      "cell_type": "code",
      "execution_count": null,
      "metadata": {
        "id": "Aq2cIVWlx7j1",
        "outputId": "91c084a9-d1fc-457c-aa02-afb250cb0e2f"
      },
      "outputs": [
        {
          "data": {
            "text/plain": [
              "(2, 3)"
            ]
          },
          "execution_count": 26,
          "metadata": {},
          "output_type": "execute_result"
        }
      ],
      "source": [
        "# Retorna a forma do array no formato linhas e colunas.\n",
        "two_dim.shape"
      ]
    },
    {
      "cell_type": "code",
      "execution_count": null,
      "metadata": {
        "id": "3INEJoOGx7j1",
        "outputId": "04a08eb6-9708-4ae3-84f6-979cf340509a"
      },
      "outputs": [
        {
          "data": {
            "text/plain": [
              "2"
            ]
          },
          "execution_count": 27,
          "metadata": {},
          "output_type": "execute_result"
        }
      ],
      "source": [
        "# Retorna a quantidade de dimensões.\n",
        "two_dim.ndim"
      ]
    },
    {
      "cell_type": "code",
      "execution_count": null,
      "metadata": {
        "id": "t0S0ZWcPx7j1",
        "outputId": "a250972c-b77a-469d-a959-c04f505d880a"
      },
      "outputs": [
        {
          "data": {
            "text/plain": [
              "6"
            ]
          },
          "execution_count": 28,
          "metadata": {},
          "output_type": "execute_result"
        }
      ],
      "source": [
        "# Imprimindo o valor máximo do array.\n",
        "two_dim.max()"
      ]
    },
    {
      "cell_type": "code",
      "execution_count": null,
      "metadata": {
        "id": "chR0khEMx7j2",
        "outputId": "29749cae-d1e4-4c39-981f-d58edbe505ad"
      },
      "outputs": [
        {
          "data": {
            "text/plain": [
              "1"
            ]
          },
          "execution_count": 29,
          "metadata": {},
          "output_type": "execute_result"
        }
      ],
      "source": [
        "# Imprimindo o valor mínimo.\n",
        "two_dim.min()"
      ]
    },
    {
      "cell_type": "code",
      "execution_count": null,
      "metadata": {
        "id": "-fHTd5jcx7j2",
        "outputId": "a0f39a24-53ea-4196-ae3e-ac24976d98cf"
      },
      "outputs": [
        {
          "data": {
            "text/plain": [
              "3.5"
            ]
          },
          "execution_count": 30,
          "metadata": {},
          "output_type": "execute_result"
        }
      ],
      "source": [
        "# Imprimindo o valor médio.\n",
        "two_dim.mean()"
      ]
    },
    {
      "cell_type": "code",
      "execution_count": null,
      "metadata": {
        "id": "vmERNr2px7j3",
        "outputId": "c217fea5-138f-408e-af85-88576b7f9baa"
      },
      "outputs": [
        {
          "data": {
            "text/plain": [
              "1.707825127659933"
            ]
          },
          "execution_count": 31,
          "metadata": {},
          "output_type": "execute_result"
        }
      ],
      "source": [
        "# Imprimindo o desvio padrão.\n",
        "two_dim.std()"
      ]
    },
    {
      "cell_type": "code",
      "execution_count": null,
      "metadata": {
        "id": "hJuJDg8Rx7j3",
        "outputId": "16eb14a2-6c9b-4115-fb6e-48385d9f560a"
      },
      "outputs": [
        {
          "data": {
            "text/plain": [
              "array([[1, 2, 3],\n",
              "       [4, 5, 6]])"
            ]
          },
          "execution_count": 32,
          "metadata": {},
          "output_type": "execute_result"
        }
      ],
      "source": [
        "two_dim"
      ]
    },
    {
      "cell_type": "code",
      "execution_count": null,
      "metadata": {
        "id": "hiCuCj99x7j3",
        "outputId": "1865d1b8-de9c-46cf-a04a-86e274e19664"
      },
      "outputs": [
        {
          "data": {
            "text/plain": [
              "dtype('int32')"
            ]
          },
          "execution_count": 33,
          "metadata": {},
          "output_type": "execute_result"
        }
      ],
      "source": [
        "two_dim.dtype"
      ]
    },
    {
      "cell_type": "code",
      "execution_count": null,
      "metadata": {
        "id": "1IQ0spOLx7j4",
        "outputId": "b0468563-2dcf-44e1-ab1d-e3d17b7f3d32"
      },
      "outputs": [
        {
          "data": {
            "text/plain": [
              "6"
            ]
          },
          "execution_count": 34,
          "metadata": {},
          "output_type": "execute_result"
        }
      ],
      "source": [
        "two_dim.size"
      ]
    },
    {
      "cell_type": "code",
      "execution_count": null,
      "metadata": {
        "id": "Jf4_KkjUx7j4",
        "outputId": "4e954c0c-21da-4d8e-ad7f-f03cb10931a3"
      },
      "outputs": [
        {
          "data": {
            "text/plain": [
              "4"
            ]
          },
          "execution_count": 35,
          "metadata": {},
          "output_type": "execute_result"
        }
      ],
      "source": [
        "# mostra a quantidade\n",
        "two_dim.itemsize"
      ]
    },
    {
      "cell_type": "code",
      "execution_count": null,
      "metadata": {
        "id": "K3ZbpQRLx7j5",
        "outputId": "8e80ae17-55ec-4aad-8f72-b8bb4d596184"
      },
      "outputs": [
        {
          "data": {
            "text/plain": [
              "21"
            ]
          },
          "execution_count": 36,
          "metadata": {},
          "output_type": "execute_result"
        }
      ],
      "source": [
        "# Somando todos os elementos do array.\n",
        "two_dim.sum()"
      ]
    },
    {
      "cell_type": "markdown",
      "metadata": {
        "id": "fgDg7DNDx7j5"
      },
      "source": [
        "#  Transformando Arrays"
      ]
    },
    {
      "cell_type": "code",
      "execution_count": null,
      "metadata": {
        "id": "BfOHgvulx7j5",
        "outputId": "e79eeb83-3c6a-496c-e7db-bea8a533b0fd"
      },
      "outputs": [
        {
          "data": {
            "text/plain": [
              "array([[1, 2, 3],\n",
              "       [4, 5, 6]])"
            ]
          },
          "execution_count": 37,
          "metadata": {},
          "output_type": "execute_result"
        }
      ],
      "source": [
        "two_dim"
      ]
    },
    {
      "cell_type": "code",
      "execution_count": null,
      "metadata": {
        "id": "z4tSPefKx7j6",
        "outputId": "6ab11a3a-e5e7-4a89-db80-f13114389ef2"
      },
      "outputs": [
        {
          "data": {
            "text/plain": [
              "array([[1, 4],\n",
              "       [2, 5],\n",
              "       [3, 6]])"
            ]
          },
          "execution_count": 38,
          "metadata": {},
          "output_type": "execute_result"
        }
      ],
      "source": [
        "# Gera a Transposta da Matriz (Linha -> coluna)\n",
        "two_dim.T"
      ]
    },
    {
      "cell_type": "code",
      "execution_count": null,
      "metadata": {
        "id": "3q9fqHaSx7j6",
        "outputId": "f49e5118-91e5-420c-c79f-027063df0494"
      },
      "outputs": [
        {
          "data": {
            "text/plain": [
              "array([[1, 2, 3],\n",
              "       [4, 5, 6]])"
            ]
          },
          "execution_count": 39,
          "metadata": {},
          "output_type": "execute_result"
        }
      ],
      "source": [
        "two_dim"
      ]
    },
    {
      "cell_type": "code",
      "execution_count": null,
      "metadata": {
        "id": "ZUsg51qex7j6",
        "outputId": "8943b000-64bf-42f1-818c-4e4f65304025"
      },
      "outputs": [
        {
          "data": {
            "text/plain": [
              "array([1, 2, 3, 4, 5, 6])"
            ]
          },
          "execution_count": 40,
          "metadata": {},
          "output_type": "execute_result"
        }
      ],
      "source": [
        "# Transforma em uma matriz de uma linha.\n",
        "# È muito comum em bibliotecas como scikit-learn e Keras\n",
        "two_dim.reshape(-1)"
      ]
    },
    {
      "cell_type": "code",
      "execution_count": null,
      "metadata": {
        "id": "zd03YNmJx7j6"
      },
      "outputs": [],
      "source": [
        "tree = np.random.random((5,3))"
      ]
    },
    {
      "cell_type": "code",
      "execution_count": null,
      "metadata": {
        "id": "Q5XcbuZtx7j6",
        "outputId": "3b0670ca-0297-4428-821a-773d5f0fe97b"
      },
      "outputs": [
        {
          "data": {
            "text/plain": [
              "(5, 3)"
            ]
          },
          "execution_count": 42,
          "metadata": {},
          "output_type": "execute_result"
        }
      ],
      "source": [
        "tree.shape"
      ]
    },
    {
      "cell_type": "code",
      "execution_count": null,
      "metadata": {
        "id": "UkO4DU_Qx7j7",
        "outputId": "93c57aac-def3-4c47-cd16-cfc7f78353ba"
      },
      "outputs": [
        {
          "data": {
            "text/plain": [
              "array([[0.90101605, 0.33509405, 0.09516297],\n",
              "       [0.73026034, 0.86340173, 0.42424879],\n",
              "       [0.7992478 , 0.37531825, 0.64856213],\n",
              "       [0.94368344, 0.12455872, 0.21219825],\n",
              "       [0.14391759, 0.15165705, 0.29783426]])"
            ]
          },
          "execution_count": 43,
          "metadata": {},
          "output_type": "execute_result"
        }
      ],
      "source": [
        "tree"
      ]
    },
    {
      "cell_type": "code",
      "execution_count": null,
      "metadata": {
        "id": "15lpRk1Vx7j7",
        "outputId": "9cad1b80-7de5-4ff6-9d15-fb48aabd9763"
      },
      "outputs": [
        {
          "data": {
            "text/plain": [
              "array([[0.90101605, 0.33509405, 0.09516297, 0.73026034, 0.86340173],\n",
              "       [0.42424879, 0.7992478 , 0.37531825, 0.64856213, 0.94368344],\n",
              "       [0.12455872, 0.21219825, 0.14391759, 0.15165705, 0.29783426]])"
            ]
          },
          "execution_count": 44,
          "metadata": {},
          "output_type": "execute_result"
        }
      ],
      "source": [
        "# Transforma em uma matriz com 3 linhas e 5 colunas\n",
        "tree.reshape(3,5)"
      ]
    },
    {
      "cell_type": "code",
      "execution_count": null,
      "metadata": {
        "id": "Ye7K3HPgx7j7",
        "outputId": "771c2fd0-45da-4217-87f5-11e639b2b84e"
      },
      "outputs": [
        {
          "data": {
            "text/plain": [
              "array([0.90101605, 0.33509405, 0.09516297, 0.73026034, 0.86340173,\n",
              "       0.42424879, 0.7992478 , 0.37531825, 0.64856213, 0.94368344,\n",
              "       0.12455872, 0.21219825, 0.14391759, 0.15165705, 0.29783426])"
            ]
          },
          "execution_count": 45,
          "metadata": {},
          "output_type": "execute_result"
        }
      ],
      "source": [
        "tree.reshape(-1)"
      ]
    },
    {
      "cell_type": "code",
      "execution_count": null,
      "metadata": {
        "id": "HFLjn_q5x7j7",
        "outputId": "afe809a6-ae96-4441-e1ee-e63f5893e87c"
      },
      "outputs": [
        {
          "data": {
            "text/plain": [
              "array([[0.90101605, 0.33509405, 0.09516297, 0.73026034, 0.86340173,\n",
              "        0.42424879, 0.7992478 , 0.37531825, 0.64856213, 0.94368344,\n",
              "        0.12455872, 0.21219825, 0.14391759, 0.15165705, 0.29783426]])"
            ]
          },
          "execution_count": 46,
          "metadata": {},
          "output_type": "execute_result"
        }
      ],
      "source": [
        "t=tree.reshape(1,15)\n",
        "t"
      ]
    },
    {
      "cell_type": "code",
      "execution_count": null,
      "metadata": {
        "id": "jGAwlfxFx7j7",
        "outputId": "e942b059-cad9-49b7-a66e-ee59980a7110"
      },
      "outputs": [
        {
          "data": {
            "text/plain": [
              "array([[1, 2, 3],\n",
              "       [4, 5, 6]])"
            ]
          },
          "execution_count": 47,
          "metadata": {},
          "output_type": "execute_result"
        }
      ],
      "source": [
        "two_dim"
      ]
    },
    {
      "cell_type": "code",
      "execution_count": null,
      "metadata": {
        "id": "MoOwk9QYx7j8"
      },
      "outputs": [],
      "source": [
        "# Adicionando elementos a um array.\n",
        "two_dim = np.insert(two_dim,0,10)"
      ]
    },
    {
      "cell_type": "code",
      "execution_count": null,
      "metadata": {
        "id": "imKqCXwkx7j8",
        "outputId": "99772490-e514-4c4e-e9de-c0add1a5af57"
      },
      "outputs": [
        {
          "data": {
            "text/plain": [
              "array([10,  1,  2,  3,  4,  5,  6])"
            ]
          },
          "execution_count": 49,
          "metadata": {},
          "output_type": "execute_result"
        }
      ],
      "source": [
        "# Transforma em um array de uma linha.\n",
        "two_dim"
      ]
    },
    {
      "cell_type": "code",
      "execution_count": null,
      "metadata": {
        "id": "fdGS_WmEx7j8"
      },
      "outputs": [],
      "source": [
        "# Apagando o elemento da primeira posição do array.\n",
        "two_dim = np.delete(two_dim,[0])"
      ]
    },
    {
      "cell_type": "code",
      "execution_count": null,
      "metadata": {
        "id": "ApfI3MhXx7j8",
        "outputId": "3d6bdfae-57cb-4d63-d6a7-08271e05baf8"
      },
      "outputs": [
        {
          "data": {
            "text/plain": [
              "array([1, 2, 3, 4, 5, 6])"
            ]
          },
          "execution_count": 51,
          "metadata": {},
          "output_type": "execute_result"
        }
      ],
      "source": [
        "two_dim"
      ]
    },
    {
      "cell_type": "code",
      "execution_count": null,
      "metadata": {
        "id": "nFNhErODx7j8"
      },
      "outputs": [],
      "source": [
        "# Gerando um arquivo .txt a partir de um array\n",
        "np.savetxt(\"dataset_array.txt\",two_dim, delimiter=',')"
      ]
    },
    {
      "cell_type": "markdown",
      "metadata": {
        "id": "pd2Y6e-Vx7j9"
      },
      "source": [
        "## Funções que são úteis e pouco conhecidas"
      ]
    },
    {
      "cell_type": "code",
      "execution_count": null,
      "metadata": {
        "id": "cmfQ8K_Bx7j9",
        "outputId": "aa9bb6cc-9147-4421-ec15-ffc854ba7e00"
      },
      "outputs": [
        {
          "data": {
            "text/plain": [
              "array([1, 1, 1, 2, 2, 2, 3, 3, 3])"
            ]
          },
          "execution_count": 10,
          "metadata": {},
          "output_type": "execute_result"
        }
      ],
      "source": [
        "x = np.array([1, 2, 3])\n",
        "np.repeat(x, 3) # repete o valor dos arrays lado a lado."
      ]
    },
    {
      "cell_type": "code",
      "execution_count": null,
      "metadata": {
        "id": "n5j9g-2_x7j9",
        "outputId": "158979fb-4b17-417e-e2f7-3565e6af1212"
      },
      "outputs": [
        {
          "data": {
            "text/plain": [
              "array([[1, 2, 3],\n",
              "       [1, 2, 3],\n",
              "       [1, 2, 3]])"
            ]
          },
          "execution_count": 11,
          "metadata": {},
          "output_type": "execute_result"
        }
      ],
      "source": [
        "np.tile(x, (3, 1)) # repete verticalmente três vezes."
      ]
    },
    {
      "cell_type": "code",
      "execution_count": null,
      "metadata": {
        "id": "r_Loq8Hmx7j9",
        "outputId": "7875f624-15ac-48b9-8340-96bddfb5d773"
      },
      "outputs": [
        {
          "data": {
            "text/plain": [
              "array([3, 2, 1])"
            ]
          },
          "execution_count": 12,
          "metadata": {},
          "output_type": "execute_result"
        }
      ],
      "source": [
        "np.flip(x) # inverte a ordem dos elementos do array"
      ]
    },
    {
      "cell_type": "code",
      "execution_count": null,
      "metadata": {
        "id": "zTZMhxHvx7j-"
      },
      "outputs": [],
      "source": [
        "x = np.array([1, 2, 3, 4, 5])"
      ]
    },
    {
      "cell_type": "code",
      "execution_count": null,
      "metadata": {
        "id": "9tyXGVatx7j-",
        "outputId": "73ce0235-89d0-4cff-d528-7b8ef647db94"
      },
      "outputs": [
        {
          "data": {
            "text/plain": [
              "array([  1,   2,   6,  24, 120], dtype=int32)"
            ]
          },
          "execution_count": 3,
          "metadata": {},
          "output_type": "execute_result"
        }
      ],
      "source": [
        "np.cumprod(x) # produto acumulado de todos os elementos anteriores no array"
      ]
    },
    {
      "cell_type": "code",
      "execution_count": null,
      "metadata": {
        "id": "6y_c3j0hx7j-",
        "outputId": "a6b9d6e8-5bf0-4b76-f6e2-49e72880fbf4"
      },
      "outputs": [
        {
          "data": {
            "text/plain": [
              "array([ 1,  3,  6, 10, 15], dtype=int32)"
            ]
          },
          "execution_count": 6,
          "metadata": {},
          "output_type": "execute_result"
        }
      ],
      "source": [
        "np.cumsum(x) # soma acumulada de todos os elementos anteriores no array"
      ]
    },
    {
      "cell_type": "code",
      "execution_count": null,
      "metadata": {
        "id": "Q9KNIz4Sx7j-",
        "outputId": "ff36f325-f173-404f-ea44-7987cafa1d98"
      },
      "outputs": [
        {
          "data": {
            "text/plain": [
              "array([1, 1, 1, 1])"
            ]
          },
          "execution_count": 5,
          "metadata": {},
          "output_type": "execute_result"
        }
      ],
      "source": [
        "np.diff(x) # diferença de todos os elementos anteriores no array"
      ]
    },
    {
      "cell_type": "code",
      "execution_count": null,
      "metadata": {
        "id": "suJqr58Dx7j-",
        "outputId": "822e7352-befb-48a1-c8be-e058f0f9c8e4"
      },
      "outputs": [
        {
          "data": {
            "text/plain": [
              "array([0, 1, 2, 3, 4], dtype=int64)"
            ]
          },
          "execution_count": 18,
          "metadata": {},
          "output_type": "execute_result"
        }
      ],
      "source": [
        "np.argsort(x) # ordena os índices dos valores ordenados no arrays"
      ]
    },
    {
      "cell_type": "code",
      "execution_count": null,
      "metadata": {
        "id": "OgG8jfykx7j_",
        "outputId": "cda5dce0-0eec-4e3b-f599-47cf3fa8f5b9"
      },
      "outputs": [
        {
          "data": {
            "text/plain": [
              "array([1, 0, 4, 3, 2], dtype=int64)"
            ]
          },
          "execution_count": 19,
          "metadata": {},
          "output_type": "execute_result"
        }
      ],
      "source": [
        "x = np.array([2, 1, 5, 4, 3])\n",
        "np.argsort(x)"
      ]
    },
    {
      "cell_type": "markdown",
      "metadata": {
        "id": "vwZIadLTx7j_"
      },
      "source": [
        "# Acessando Dimensões no Array"
      ]
    },
    {
      "cell_type": "code",
      "execution_count": null,
      "metadata": {
        "id": "A8qplPC3x7j_"
      },
      "outputs": [],
      "source": [
        "# Gera um array aleatório de 10 linhas e 2 colunas\n",
        "# formato linha,coluna\n",
        "my_array = np.random.random([10,2])"
      ]
    },
    {
      "cell_type": "code",
      "execution_count": null,
      "metadata": {
        "id": "3iiVMtFwx7j_",
        "outputId": "ce8c09c2-a6b6-4925-fabb-a9e8a5e2768f"
      },
      "outputs": [
        {
          "data": {
            "text/plain": [
              "array([[0.24086604, 0.03800358],\n",
              "       [0.56666289, 0.16849406],\n",
              "       [0.88610751, 0.61639979],\n",
              "       [0.28597597, 0.36693998],\n",
              "       [0.84243073, 0.69569194],\n",
              "       [0.61587687, 0.01269536],\n",
              "       [0.4769537 , 0.17899383],\n",
              "       [0.53532086, 0.11690796],\n",
              "       [0.37425959, 0.94216435],\n",
              "       [0.38233021, 0.11998666]])"
            ]
          },
          "execution_count": 15,
          "metadata": {},
          "output_type": "execute_result"
        }
      ],
      "source": [
        "my_array"
      ]
    },
    {
      "cell_type": "code",
      "execution_count": null,
      "metadata": {
        "id": "RBkM6Va2x7j_",
        "outputId": "51cd5b0f-3952-47ec-b4ad-2f959f08ec57"
      },
      "outputs": [
        {
          "data": {
            "text/plain": [
              "array([0.24086604, 0.03800358])"
            ]
          },
          "execution_count": 16,
          "metadata": {},
          "output_type": "execute_result"
        }
      ],
      "source": [
        "# Imprimindo o primeiro elemento (1 linha)\n",
        "my_array[0]"
      ]
    },
    {
      "cell_type": "code",
      "execution_count": null,
      "metadata": {
        "id": "PIdEBd-Xx7kA",
        "outputId": "34aab0ab-0afd-4605-8096-e2c05a94cca4"
      },
      "outputs": [
        {
          "data": {
            "text/plain": [
              "0.24086603995344946"
            ]
          },
          "execution_count": 17,
          "metadata": {},
          "output_type": "execute_result"
        }
      ],
      "source": [
        "# Imprimindo o primeiro elemento da coluna 0 (1 coluna)\n",
        "my_array[0][0]"
      ]
    },
    {
      "cell_type": "code",
      "execution_count": null,
      "metadata": {
        "id": "EwVYPQ72x7kA",
        "outputId": "60dc2e6e-738a-490b-eb20-63892972024f"
      },
      "outputs": [
        {
          "data": {
            "text/plain": [
              "0.038003579610823124"
            ]
          },
          "execution_count": 18,
          "metadata": {},
          "output_type": "execute_result"
        }
      ],
      "source": [
        "# Primeiro elemento da coluna 1\n",
        "my_array[0][1]"
      ]
    },
    {
      "cell_type": "code",
      "execution_count": null,
      "metadata": {
        "id": "mjW9cF_px7kA",
        "outputId": "e5336d25-f3f8-43ee-ef1b-80731e275137"
      },
      "outputs": [
        {
          "data": {
            "text/plain": [
              "0.1684940571894099"
            ]
          },
          "execution_count": 19,
          "metadata": {},
          "output_type": "execute_result"
        }
      ],
      "source": [
        "# Segundo elemento da coluna 1\n",
        "my_array[1][1]"
      ]
    },
    {
      "cell_type": "code",
      "execution_count": null,
      "metadata": {
        "id": "51Hu2_TPx7kA",
        "outputId": "784d3cd6-ad99-43ab-d1a5-545269f338d6"
      },
      "outputs": [
        {
          "data": {
            "text/plain": [
              "0.1684940571894099"
            ]
          },
          "execution_count": 20,
          "metadata": {},
          "output_type": "execute_result"
        }
      ],
      "source": [
        "# Segundo elemento da coluna escrito com virgula.\n",
        "# O primeiro valor especifica a linha e o segundo valor especifica a coluna.\n",
        "my_array[1,1]"
      ]
    },
    {
      "cell_type": "code",
      "execution_count": null,
      "metadata": {
        "id": "RxYJeyHsx7kA",
        "outputId": "7c5780e1-ee29-466f-a75d-b2bdd8782b3a"
      },
      "outputs": [
        {
          "data": {
            "text/plain": [
              "array([0.03800358, 0.16849406, 0.61639979])"
            ]
          },
          "execution_count": 21,
          "metadata": {},
          "output_type": "execute_result"
        }
      ],
      "source": [
        "# Imprimindo até 3 valores da coluna 1\n",
        "my_array[:3,1]"
      ]
    },
    {
      "cell_type": "code",
      "execution_count": null,
      "metadata": {
        "id": "UqCAd5lvx7kB",
        "outputId": "99d81308-9081-4bc4-d750-da2a9abd0584"
      },
      "outputs": [
        {
          "data": {
            "text/plain": [
              "array([0.3800358 , 1.68494057, 6.16399793, 3.66939976, 6.9569194 ,\n",
              "       0.12695358, 1.78993834, 1.16907961, 9.42164353, 1.19986657])"
            ]
          },
          "execution_count": 22,
          "metadata": {},
          "output_type": "execute_result"
        }
      ],
      "source": [
        "# Imprime todas as linhas da coluna 2 * 10\n",
        "my_array[:,1] * 10"
      ]
    },
    {
      "cell_type": "code",
      "execution_count": null,
      "metadata": {
        "id": "Kl_y7geQx7kB"
      },
      "outputs": [],
      "source": [
        "# Criando um array multidimensional de exemplo\n",
        "array = np.array([[1, 2, 3],\n",
        "                  [4, 5, 6],\n",
        "                  [7, 8, 9]])"
      ]
    },
    {
      "cell_type": "code",
      "execution_count": null,
      "metadata": {
        "id": "LLAj42jpx7kB",
        "outputId": "179eb4db-4541-4a17-82bd-9078040cec5a"
      },
      "outputs": [
        {
          "name": "stdout",
          "output_type": "stream",
          "text": [
            "Primeiras linhas:\n",
            "[[1 2 3]\n",
            " [4 5 6]]\n",
            "\n",
            "Última linha:\n",
            "[[7 8 9]]\n"
          ]
        }
      ],
      "source": [
        "# Fatiando o array em linhas\n",
        "primeiras_linhas = array[:2]\n",
        "ultima_linha = array[2:]\n",
        "\n",
        "print(\"Primeiras linhas:\")\n",
        "print(primeiras_linhas)\n",
        "\n",
        "print(\"\\nÚltima linha:\")\n",
        "print(ultima_linha)"
      ]
    },
    {
      "cell_type": "code",
      "execution_count": null,
      "metadata": {
        "id": "o_ZpwN34x7kC",
        "outputId": "7967d738-0ce0-456d-b6b0-0d3d7f7145d1"
      },
      "outputs": [
        {
          "name": "stdout",
          "output_type": "stream",
          "text": [
            "\n",
            "Primeiras colunas:\n",
            "[[1 2]\n",
            " [4 5]\n",
            " [7 8]]\n",
            "\n",
            "Última coluna:\n",
            "[[3]\n",
            " [6]\n",
            " [9]]\n"
          ]
        }
      ],
      "source": [
        "# Fatiando o array em colunas\n",
        "primeiras_colunas = array[:, :2]\n",
        "ultima_coluna = array[:, 2:]\n",
        "\n",
        "print(\"\\nPrimeiras colunas:\")\n",
        "print(primeiras_colunas)\n",
        "\n",
        "print(\"\\nÚltima coluna:\")\n",
        "print(ultima_coluna)"
      ]
    },
    {
      "cell_type": "code",
      "execution_count": null,
      "metadata": {
        "id": "SmdVDGCWx7kC",
        "outputId": "60814ba6-a1d3-4d05-87fc-ecb7cb5e3cc7"
      },
      "outputs": [
        {
          "data": {
            "text/plain": [
              "array([ 1,  4,  7, 10, 13, 16, 19, 22, 25, 28])"
            ]
          },
          "execution_count": 39,
          "metadata": {},
          "output_type": "execute_result"
        }
      ],
      "source": [
        "n_array = np.arange(1,30,3)\n",
        "n_array"
      ]
    },
    {
      "cell_type": "code",
      "execution_count": null,
      "metadata": {
        "id": "VjJf3ju2x7kD",
        "outputId": "e00a935b-d2e2-4efd-dc7e-4de29ea97754"
      },
      "outputs": [
        {
          "data": {
            "text/plain": [
              "array([ 4, 10])"
            ]
          },
          "execution_count": 40,
          "metadata": {},
          "output_type": "execute_result"
        }
      ],
      "source": [
        "# imprimir de 1 a 5 pulando 2 numeros\n",
        "n_array[1:5:2]"
      ]
    },
    {
      "cell_type": "code",
      "execution_count": null,
      "metadata": {
        "id": "1OFGBgj2x7kD",
        "outputId": "4ab7a361-fb6a-4830-e433-a9cdb98ed5fa"
      },
      "outputs": [
        {
          "data": {
            "text/plain": [
              "array([ 1,  7, 13, 19, 25])"
            ]
          },
          "execution_count": 43,
          "metadata": {},
          "output_type": "execute_result"
        }
      ],
      "source": [
        "# imprimindo os ímpares\n",
        "n_array[::2]"
      ]
    },
    {
      "cell_type": "code",
      "execution_count": null,
      "metadata": {
        "id": "Xj1NpXDPx7kD",
        "outputId": "93deb98f-88da-4ff5-ea73-faaa634167a2"
      },
      "outputs": [
        {
          "data": {
            "text/plain": [
              "array([ 4, 10, 16, 22, 28])"
            ]
          },
          "execution_count": 42,
          "metadata": {},
          "output_type": "execute_result"
        }
      ],
      "source": [
        "# imprimindo os pares\n",
        "n_array[1::2]"
      ]
    },
    {
      "cell_type": "code",
      "execution_count": null,
      "metadata": {
        "id": "XL-XRwWqx7kD",
        "outputId": "b7cebdc8-5865-484a-f442-de6783c26098"
      },
      "outputs": [
        {
          "data": {
            "text/plain": [
              "array([[False, False],\n",
              "       [ True, False],\n",
              "       [ True,  True],\n",
              "       [False, False],\n",
              "       [ True,  True],\n",
              "       [ True, False],\n",
              "       [False, False],\n",
              "       [ True, False],\n",
              "       [False,  True],\n",
              "       [False, False]])"
            ]
          },
          "execution_count": 23,
          "metadata": {},
          "output_type": "execute_result"
        }
      ],
      "source": [
        "# Comparação retorna indices\n",
        "my_array > 0.50"
      ]
    },
    {
      "cell_type": "code",
      "execution_count": null,
      "metadata": {
        "id": "uyxJd90Cx7kE",
        "outputId": "ec964153-0884-4f4c-ed35-e9b8631b5f64"
      },
      "outputs": [
        {
          "data": {
            "text/plain": [
              "array([0.56666289, 0.88610751, 0.61639979, 0.84243073, 0.69569194,\n",
              "       0.61587687, 0.53532086, 0.94216435])"
            ]
          },
          "execution_count": 24,
          "metadata": {},
          "output_type": "execute_result"
        }
      ],
      "source": [
        "# Acessando valores por índices\n",
        "my_array[my_array > 0.50]"
      ]
    },
    {
      "cell_type": "code",
      "execution_count": null,
      "metadata": {
        "id": "1sP1EPHhx7kE",
        "outputId": "f091d020-2a3e-45bc-da2b-23c928049857"
      },
      "outputs": [
        {
          "data": {
            "text/plain": [
              "125.70065493821143"
            ]
          },
          "execution_count": 46,
          "metadata": {},
          "output_type": "execute_result"
        }
      ],
      "source": [
        "np.sum(my_array[my_array > 0.50])"
      ]
    },
    {
      "cell_type": "code",
      "execution_count": null,
      "metadata": {
        "id": "Wkt5VvvUx7kE",
        "outputId": "90ddd67b-3f9c-4dd6-d225-b04ce96f3073"
      },
      "outputs": [
        {
          "data": {
            "text/plain": [
              "array([[ 0.61276028, 10.        ],\n",
              "       [ 0.74025059, 10.        ],\n",
              "       [ 0.87566939,  0.51965075],\n",
              "       [10.        , 10.        ],\n",
              "       [10.        , 10.        ],\n",
              "       [10.        ,  0.64926549],\n",
              "       [10.        ,  0.60806605],\n",
              "       [10.        , 10.        ],\n",
              "       [10.        ,  0.82244374],\n",
              "       [ 0.59846776, 10.        ]])"
            ]
          },
          "execution_count": 4,
          "metadata": {},
          "output_type": "execute_result"
        }
      ],
      "source": [
        "#substituir valores < 0.5\n",
        "my_array[my_array < 0.50] = 10\n",
        "my_array"
      ]
    },
    {
      "cell_type": "code",
      "execution_count": null,
      "metadata": {
        "id": "Id9PY89Nx7kE",
        "outputId": "3d514e17-132a-47fc-94d5-a79797d14044"
      },
      "outputs": [
        {
          "name": "stdout",
          "output_type": "stream",
          "text": [
            "[[0.98824693 0.11398842]\n",
            " [0.91903394 0.9718535 ]\n",
            " [0.25416624 0.90352602]\n",
            " [0.8000327  0.73194675]\n",
            " [0.59249154 0.61608158]\n",
            " [0.24911995 0.9590603 ]\n",
            " [0.84400495 0.33545079]\n",
            " [0.50850934 0.01651865]\n",
            " [0.33131555 0.57617775]\n",
            " [0.73729824 0.79277567]]\n"
          ]
        },
        {
          "data": {
            "text/plain": [
              "array([[ 0.98824693, 10.        ],\n",
              "       [ 0.91903394,  0.9718535 ],\n",
              "       [10.        ,  0.90352602],\n",
              "       [ 0.8000327 ,  0.73194675],\n",
              "       [ 0.59249154,  0.61608158],\n",
              "       [10.        ,  0.9590603 ],\n",
              "       [ 0.84400495, 10.        ],\n",
              "       [ 0.50850934, 10.        ],\n",
              "       [10.        ,  0.57617775],\n",
              "       [ 0.73729824,  0.79277567]])"
            ]
          },
          "execution_count": 10,
          "metadata": {},
          "output_type": "execute_result"
        }
      ],
      "source": [
        "my_array = np.random.random([10,2])\n",
        "print(my_array)\n",
        "np.where(my_array < 0.50, 10, my_array)"
      ]
    },
    {
      "cell_type": "code",
      "execution_count": null,
      "metadata": {
        "id": "_7__baMlx7kE",
        "outputId": "7bdf7f57-e6a8-444b-8252-279450fa1824"
      },
      "outputs": [
        {
          "data": {
            "text/plain": [
              "array([[1, 2, 3],\n",
              "       [4, 5, 6],\n",
              "       [7, 8, 9]])"
            ]
          },
          "execution_count": 47,
          "metadata": {},
          "output_type": "execute_result"
        }
      ],
      "source": [
        "array"
      ]
    },
    {
      "cell_type": "code",
      "execution_count": null,
      "metadata": {
        "id": "n4ol7NhIx7kF",
        "outputId": "57bbb265-280f-4e8e-f3a2-8d8a042e8f4a"
      },
      "outputs": [
        {
          "data": {
            "text/plain": [
              "array([ 6, 15, 24])"
            ]
          },
          "execution_count": 48,
          "metadata": {},
          "output_type": "execute_result"
        }
      ],
      "source": [
        "# somar as linhas, axis = 1\n",
        "np.sum(array,axis = 1)"
      ]
    },
    {
      "cell_type": "code",
      "execution_count": null,
      "metadata": {
        "id": "RkaRb-xMx7kF",
        "outputId": "7fce6d02-a947-465b-c9ed-25724e348ff6"
      },
      "outputs": [
        {
          "data": {
            "text/plain": [
              "array([12, 15, 18])"
            ]
          },
          "execution_count": 49,
          "metadata": {},
          "output_type": "execute_result"
        }
      ],
      "source": [
        "# somar as colunas, axis = 0\n",
        "np.sum(array,axis = 0)"
      ]
    },
    {
      "cell_type": "markdown",
      "metadata": {
        "id": "Cmj8rnfHx7kF"
      },
      "source": [
        "# Carregar Arrays NumPy a partir de arquivos de Texto"
      ]
    },
    {
      "cell_type": "code",
      "execution_count": null,
      "metadata": {
        "id": "DxEGmLvTx7kG"
      },
      "outputs": [],
      "source": [
        "# Lendo um arquivo do tipo .txt\n",
        "dataset = np.loadtxt('dataset_array.txt', delimiter=',')"
      ]
    },
    {
      "cell_type": "code",
      "execution_count": null,
      "metadata": {
        "id": "IBMvHesBx7kG",
        "outputId": "dcab67f5-99a4-4734-e459-90e761ad0488"
      },
      "outputs": [
        {
          "data": {
            "text/plain": [
              "(6,)"
            ]
          },
          "execution_count": 27,
          "metadata": {},
          "output_type": "execute_result"
        }
      ],
      "source": [
        "dataset.shape"
      ]
    },
    {
      "cell_type": "code",
      "execution_count": null,
      "metadata": {
        "id": "jokgxY88x7kG",
        "outputId": "13bbf7d0-345d-4f00-8f84-22284017cf29"
      },
      "outputs": [
        {
          "data": {
            "text/plain": [
              "array([1., 2., 3., 4., 5., 6.])"
            ]
          },
          "execution_count": 28,
          "metadata": {},
          "output_type": "execute_result"
        }
      ],
      "source": [
        "dataset"
      ]
    },
    {
      "cell_type": "code",
      "execution_count": null,
      "metadata": {
        "id": "LEOYtjrFx7kG"
      },
      "outputs": [],
      "source": [
        "# carregando um arquivo dividido em 3 arrays\n",
        "# utilize o unpack para retornar o elemento transposto\n",
        "a, b, c = np.loadtxt('dataset_valores.txt', skiprows=1, unpack=True)"
      ]
    },
    {
      "cell_type": "code",
      "execution_count": null,
      "metadata": {
        "id": "0wiaGl1hx7kH",
        "outputId": "f493b316-6640-4fe2-fdb3-eb1798e2fbbf"
      },
      "outputs": [
        {
          "data": {
            "text/plain": [
              "array([0.4839, 0.1292, 0.1781, 0.7676, 0.5993])"
            ]
          },
          "execution_count": 30,
          "metadata": {},
          "output_type": "execute_result"
        }
      ],
      "source": [
        "# Array a\n",
        "a"
      ]
    },
    {
      "cell_type": "code",
      "execution_count": null,
      "metadata": {
        "id": "kSihN5tix7kH",
        "outputId": "189df589-7a11-4f58-f512-b92519004ddb"
      },
      "outputs": [
        {
          "data": {
            "text/plain": [
              "array([0.4536, 0.6875, 0.3049, 0.5801, 0.4357])"
            ]
          },
          "execution_count": 31,
          "metadata": {},
          "output_type": "execute_result"
        }
      ],
      "source": [
        "# Array B\n",
        "b"
      ]
    },
    {
      "cell_type": "code",
      "execution_count": null,
      "metadata": {
        "id": "_PVHGbs5x7kH",
        "outputId": "d562551d-5288-4efb-c6a3-736cb3e68f7e"
      },
      "outputs": [
        {
          "data": {
            "text/plain": [
              "array([0.3561, 0.6565, 0.8928, 0.2038, 0.741 ])"
            ]
          },
          "execution_count": 32,
          "metadata": {},
          "output_type": "execute_result"
        }
      ],
      "source": [
        "# Array C\n",
        "c"
      ]
    },
    {
      "cell_type": "code",
      "execution_count": null,
      "metadata": {
        "id": "P2QUGhc-x7kI"
      },
      "outputs": [],
      "source": [
        "# utilize genfromtxt para arquivos com valores faltantes\n",
        "# Carrega o arquivo ignorando as 2 primeiras linhas e preenchendo os valores vazio por 0\n",
        "# Obs: os valores string também são convertidos!!\n",
        "# utilize filling_values para substituir os valores faltantes ou em strings pelo valor especificado nesta variável\n",
        "\n",
        "dataset = np.genfromtxt('dataset_valores_vazio.txt', skip_header=2, filling_values=0)"
      ]
    },
    {
      "cell_type": "code",
      "execution_count": null,
      "metadata": {
        "id": "az3fVbIwx7kI",
        "outputId": "3e156d57-a35f-43ff-dfc0-6df37a82ee6f"
      },
      "outputs": [
        {
          "data": {
            "text/plain": [
              "array([[0.4839, 0.4536, 0.3561],\n",
              "       [0.1292, 0.6875, 0.    ],\n",
              "       [0.1781, 0.3049, 0.8928],\n",
              "       [0.    , 0.5801, 0.2038],\n",
              "       [0.5993, 0.4357, 0.741 ]])"
            ]
          },
          "execution_count": 34,
          "metadata": {},
          "output_type": "execute_result"
        }
      ],
      "source": [
        "# Imprimindo o dataset\n",
        "dataset"
      ]
    },
    {
      "cell_type": "markdown",
      "metadata": {
        "id": "zse4grLxIwhU"
      },
      "source": [
        "# Operações Matriciais"
      ]
    },
    {
      "cell_type": "code",
      "execution_count": null,
      "metadata": {
        "colab": {
          "base_uri": "https://localhost:8080/",
          "height": 177
        },
        "id": "u5t4u4A_NMwM",
        "outputId": "faeaeb67-c217-49de-83c0-768b0a78b39f"
      },
      "outputs": [
        {
          "name": "stdout",
          "output_type": "stream",
          "text": [
            "[100 200 300]\n",
            "<class 'numpy.ndarray'>\n",
            "(3,)\n",
            "1\n",
            "100 200 300\n"
          ]
        }
      ],
      "source": [
        "a = np.array([100, 200, 300])\n",
        "print(a)\n",
        "print(type(a))\n",
        "print(a.shape)\n",
        "print(a.ndim)\n",
        "\n",
        "print(a[0], a[1], a[2])"
      ]
    },
    {
      "cell_type": "code",
      "execution_count": null,
      "metadata": {
        "id": "YbX9htOJx7kJ",
        "outputId": "ae5f5b36-a0a8-427a-b5c4-0692f9b69fcf"
      },
      "outputs": [
        {
          "name": "stdout",
          "output_type": "stream",
          "text": [
            "[500 200 300]\n"
          ]
        }
      ],
      "source": [
        "a[0] = 500\n",
        "print(a)"
      ]
    },
    {
      "cell_type": "code",
      "execution_count": null,
      "metadata": {
        "id": "jRCakrUyx7kJ",
        "outputId": "1931c672-1cd5-4f69-8312-ad28b14defff"
      },
      "outputs": [
        {
          "name": "stdout",
          "output_type": "stream",
          "text": [
            "[[1 2 3]\n",
            " [4 5 6]]\n",
            "(2, 3)\n",
            "2\n",
            "1 2 4\n"
          ]
        }
      ],
      "source": [
        "b = np.array(\n",
        "              [\n",
        "                  [1,2,3],\n",
        "                  [4,5,6]\n",
        "              ]\n",
        "            )\n",
        "\n",
        "print(b)\n",
        "print(b.shape)\n",
        "print (b.ndim)\n",
        "print(b[0, 0], b[0, 1], b[1, 0])"
      ]
    },
    {
      "cell_type": "code",
      "execution_count": null,
      "metadata": {
        "id": "uSLfatrUx7kJ",
        "outputId": "7dd5fa86-6007-4242-d774-07564049cbc7"
      },
      "outputs": [
        {
          "name": "stdout",
          "output_type": "stream",
          "text": [
            "[[2 2 3]\n",
            " [4 5 6]]\n"
          ]
        }
      ],
      "source": [
        "b[0][0] = 2\n",
        "print(b)"
      ]
    },
    {
      "cell_type": "code",
      "execution_count": null,
      "metadata": {
        "colab": {
          "base_uri": "https://localhost:8080/",
          "height": 70
        },
        "id": "4qqQFbjDIyWv",
        "outputId": "bc60e33c-0763-4507-803d-90ef559552a2"
      },
      "outputs": [
        {
          "name": "stdout",
          "output_type": "stream",
          "text": [
            "[[[1 2 3]\n",
            "  [4 5 6]]\n",
            "\n",
            " [[1 2 3]\n",
            "  [4 5 6]]]\n",
            "(2, 2, 3)\n",
            "3\n",
            "6\n"
          ]
        }
      ],
      "source": [
        "# Array 3 dimensões\n",
        "\n",
        "b = np.array( [\n",
        "                  [\n",
        "                      [1,2,3],\n",
        "                      [4,5,6]\n",
        "                  ],\n",
        "\n",
        "                  [\n",
        "                      [1,2,3],\n",
        "                      [4,5,6]\n",
        "                  ]\n",
        "              ]\n",
        "            )\n",
        "\n",
        "print(b)\n",
        "print(b.shape)\n",
        "print (b.ndim)\n",
        "\n",
        "print (b[0,1,2])"
      ]
    },
    {
      "cell_type": "markdown",
      "metadata": {
        "id": "WmdyhxuOx7kK"
      },
      "source": [
        "## Operações"
      ]
    },
    {
      "cell_type": "markdown",
      "metadata": {
        "id": "9AcTS4m8x7kK"
      },
      "source": [
        "### Soma"
      ]
    },
    {
      "cell_type": "code",
      "execution_count": null,
      "metadata": {
        "colab": {
          "base_uri": "https://localhost:8080/",
          "height": 337
        },
        "id": "gOuV7xy1bUUp",
        "outputId": "37f1a5f3-e247-45d3-cd59-5c052b5a2807"
      },
      "outputs": [
        {
          "name": "stdout",
          "output_type": "stream",
          "text": [
            "X:[[1. 2.]\n",
            " [3. 4.]]\n",
            "\n",
            "Y:[[5. 6.]\n",
            " [7. 8.]]\n",
            "\n",
            "[[ 6.  8.]\n",
            " [10. 12.]]\n",
            "\n",
            "[[ 6.  8.]\n",
            " [10. 12.]]\n"
          ]
        }
      ],
      "source": [
        "#   1 2      5 6      6  8\n",
        "#         +        =\n",
        "#   3 4      7 8      10 12\n",
        "\n",
        "x = np.array([[1,2],[3,4]], dtype=np.float64)\n",
        "y = np.array([[5,6],[7,8]], dtype=np.float64)\n",
        "\n",
        "print(\"X:\" + str(x) + '\\n')\n",
        "print(\"Y:\" + str(y) + '\\n')\n",
        "\n",
        "# [[ 6.0  8.0]\n",
        "#  [10.0 12.0]]\n",
        "print(x + y)\n",
        "print()\n",
        "print(np.add(x, y))\n"
      ]
    },
    {
      "cell_type": "code",
      "execution_count": null,
      "metadata": {
        "id": "GT_EWNYbx7kK",
        "outputId": "5e39cd79-c4aa-4c3f-ea0c-ff98f323a3bc"
      },
      "outputs": [
        {
          "name": "stdout",
          "output_type": "stream",
          "text": [
            "[[ 6.  8.]\n",
            " [10. 12.]]\n",
            "Wall time: 1.06 ms\n"
          ]
        }
      ],
      "source": [
        "%%time\n",
        "print(x + y)"
      ]
    },
    {
      "cell_type": "code",
      "execution_count": null,
      "metadata": {
        "id": "N5zQ2W4lx7kK",
        "outputId": "4cb37340-e5eb-4d52-c3f8-940fe1fe8cbb"
      },
      "outputs": [
        {
          "name": "stdout",
          "output_type": "stream",
          "text": [
            "[[ 6.  8.]\n",
            " [10. 12.]]\n",
            "Wall time: 0 ns\n"
          ]
        }
      ],
      "source": [
        "%%time\n",
        "print(np.add(x, y))"
      ]
    },
    {
      "cell_type": "markdown",
      "metadata": {
        "id": "8tFLBBS6x7kK"
      },
      "source": [
        "### Subtração"
      ]
    },
    {
      "cell_type": "code",
      "execution_count": null,
      "metadata": {
        "id": "YSJ3HXXzx7kL",
        "outputId": "f111ec1a-e6cb-40d9-beb9-e5cfe27cd62e"
      },
      "outputs": [
        {
          "name": "stdout",
          "output_type": "stream",
          "text": [
            "[[-4. -4.]\n",
            " [-4. -4.]]\n",
            "\n",
            "[[-4. -4.]\n",
            " [-4. -4.]]\n"
          ]
        }
      ],
      "source": [
        "#   1 2      5 6      -4  -4\n",
        "#         -        =\n",
        "#   3 4      7 8      -4  -4\n",
        "\n",
        "# [[-4.0 -4.0]\n",
        "#  [-4.0 -4.0]]\n",
        "print(x - y)\n",
        "print()\n",
        "print(np.subtract(x, y))\n"
      ]
    },
    {
      "cell_type": "markdown",
      "metadata": {
        "id": "483_wZlcx7kL"
      },
      "source": [
        "### Multiplicação"
      ]
    },
    {
      "cell_type": "code",
      "execution_count": null,
      "metadata": {
        "id": "FN2b6YW_x7kL",
        "outputId": "5475527e-e075-45e9-db05-e4f3aca3b9cc"
      },
      "outputs": [
        {
          "name": "stdout",
          "output_type": "stream",
          "text": [
            "[[ 5. 12.]\n",
            " [21. 32.]]\n",
            "\n",
            "[[ 5. 12.]\n",
            " [21. 32.]]\n"
          ]
        }
      ],
      "source": [
        "#   1 2      5 6       5  12\n",
        "#         *        =\n",
        "#   3 4      7 8      21  32\n",
        "\n",
        "print(x * y)\n",
        "print()\n",
        "print(np.multiply(x, y))"
      ]
    },
    {
      "cell_type": "code",
      "execution_count": null,
      "metadata": {
        "id": "wUd7Uf6lx7kL",
        "outputId": "df51f4d7-17cc-4fcc-fde9-f7e0ba6139b0"
      },
      "outputs": [
        {
          "name": "stdout",
          "output_type": "stream",
          "text": [
            "[[19. 22.]\n",
            " [43. 50.]]\n",
            "[[19. 22.]\n",
            " [43. 50.]]\n"
          ]
        }
      ],
      "source": [
        "# Multiplicação matricial\n",
        "#   1 2      5 6       1*5 + 2*7     1*6 + 2*8\n",
        "#         x        =\n",
        "#   3 4      7 8       3*5 + 4*7     3*6 + 4*8\n",
        "\n",
        "print(x.dot(y))\n",
        "print()\n",
        "print(np.dot(x, y))"
      ]
    },
    {
      "cell_type": "markdown",
      "metadata": {
        "id": "64R4Q7DZx7kL"
      },
      "source": [
        "### Divisão"
      ]
    },
    {
      "cell_type": "code",
      "execution_count": null,
      "metadata": {
        "id": "O7806BbDx7kL",
        "outputId": "8768de5e-2af1-4dee-9c18-5921783ee5b3"
      },
      "outputs": [
        {
          "name": "stdout",
          "output_type": "stream",
          "text": [
            "[[0.2        0.33333333]\n",
            " [0.42857143 0.5       ]]\n",
            "\n",
            "[[0.2        0.33333333]\n",
            " [0.42857143 0.5       ]]\n"
          ]
        }
      ],
      "source": [
        "# [[ 0.2         0.33333333]\n",
        "#  [ 0.42857143  0.5       ]]\n",
        "\n",
        "#   1 2      5 6       0.2  0.3333\n",
        "#         /        =\n",
        "#   3 4      7 8       0.428  0.5\n",
        "\n",
        "print(x / y)\n",
        "print()\n",
        "print(np.divide(x, y))"
      ]
    },
    {
      "cell_type": "markdown",
      "metadata": {
        "id": "7LerXVNOx7kM"
      },
      "source": [
        "### Raíz quadrada"
      ]
    },
    {
      "cell_type": "code",
      "execution_count": null,
      "metadata": {
        "id": "J_Y0oO5Xx7kM",
        "outputId": "7215a7bd-a0cd-4371-c5c4-4f62fb133855"
      },
      "outputs": [
        {
          "name": "stdout",
          "output_type": "stream",
          "text": [
            "[[1.         1.41421356]\n",
            " [1.73205081 2.        ]]\n",
            "Wall time: 0 ns\n"
          ]
        }
      ],
      "source": [
        "%%time\n",
        "# [[ 1.          1.41421356]\n",
        "#  [ 1.73205081  2.        ]]\n",
        "print(np.sqrt(x))"
      ]
    },
    {
      "cell_type": "code",
      "execution_count": null,
      "metadata": {
        "colab": {
          "base_uri": "https://localhost:8080/",
          "height": 266
        },
        "id": "sugq6FQQPi5c",
        "outputId": "a45f0c1e-e9cf-438e-e366-55051030ef91"
      },
      "outputs": [
        {
          "name": "stdout",
          "output_type": "stream",
          "text": [
            "[[0. 0.]\n",
            " [0. 0.]] \n",
            "\n",
            "[[1. 1.]] \n",
            "\n",
            "[[7 7]\n",
            " [7 7]] \n",
            "\n",
            "[[1. 0.]\n",
            " [0. 1.]] \n",
            "\n",
            "[[0.67994065 0.85526581]\n",
            " [0.49091336 0.1594161 ]] \n",
            "\n"
          ]
        }
      ],
      "source": [
        "import numpy as np\n",
        "\n",
        "a = np.zeros((2,2))   # array de zeros\n",
        "print(a,'\\n')              # Prints \"[[ 0.  0.]\n",
        "                      #          [ 0.  0.]]\"\n",
        "\n",
        "b = np.ones((1,2))    # array de uns\n",
        "print(b,'\\n')              # Prints \"[[ 1.  1.]]\"\n",
        "\n",
        "c = np.full((2,2), 7)  # array de constantes\n",
        "print(c,'\\n')               # Prints \"[[ 7.  7.]\n",
        "                       #          [ 7.  7.]]\"\n",
        "\n",
        "d = np.eye(2)         # matriz identidade\n",
        "print(d,'\\n')              # Prints \"[[ 1.  0.]\n",
        "                      #          [ 0.  1.]]\"\n",
        "\n",
        "e = np.random.random((2,2))  # array preenchido de valores randomicos entre 0 e 1\n",
        "print(e,'\\n')"
      ]
    },
    {
      "cell_type": "code",
      "execution_count": null,
      "metadata": {
        "colab": {
          "base_uri": "https://localhost:8080/",
          "height": 301
        },
        "id": "sbVoUzUCRvNo",
        "outputId": "8437b7bc-bcc9-4151-e5da-9f748e8e86fc"
      },
      "outputs": [
        {
          "name": "stdout",
          "output_type": "stream",
          "text": [
            "[[2 3]\n",
            " [6 7]] \n",
            "\n"
          ]
        }
      ],
      "source": [
        "a = np.array(\n",
        "              [\n",
        "                [1,2,3,4],\n",
        "                [5,6,7,8],\n",
        "                [9,10,11,12]\n",
        "              ]\n",
        "            )\n",
        "\n",
        "#print o seguinte array\n",
        "# [[2 3]\n",
        "#  [6 7]]\n",
        "b = a[:2, 1:3]\n",
        "\n",
        "print (b,'\\n')\n",
        "\n"
      ]
    },
    {
      "cell_type": "code",
      "execution_count": null,
      "metadata": {
        "id": "J2odxG2Wx7kM",
        "outputId": "86d07fc7-1f29-43be-9494-1699508023e8"
      },
      "outputs": [
        {
          "data": {
            "text/plain": [
              "array([[ 7,  8],\n",
              "       [11, 12]])"
            ]
          },
          "execution_count": 19,
          "metadata": {},
          "output_type": "execute_result"
        }
      ],
      "source": [
        "b = a[1:, 2:]\n",
        "b"
      ]
    },
    {
      "cell_type": "code",
      "execution_count": null,
      "metadata": {
        "id": "buCawLpIx7kN",
        "outputId": "289c7e0b-d05a-4ace-9c41-f656d3c12a57"
      },
      "outputs": [
        {
          "data": {
            "text/plain": [
              "array([1, 5, 9])"
            ]
          },
          "execution_count": 21,
          "metadata": {},
          "output_type": "execute_result"
        }
      ],
      "source": [
        "a[:,0]"
      ]
    },
    {
      "cell_type": "code",
      "execution_count": null,
      "metadata": {
        "id": "yjzswZGtx7kN",
        "outputId": "9eb69b18-8c08-4f26-a8d0-5ffc755b1a81"
      },
      "outputs": [
        {
          "data": {
            "text/plain": [
              "array([[ 1,  2,  3,  4],\n",
              "       [ 5,  6, 77,  8],\n",
              "       [ 9, 10, 11, 12]])"
            ]
          },
          "execution_count": 23,
          "metadata": {},
          "output_type": "execute_result"
        }
      ],
      "source": [
        "a"
      ]
    },
    {
      "cell_type": "code",
      "execution_count": null,
      "metadata": {
        "id": "e9HNWZkGx7kN",
        "outputId": "1d7a1b8a-cee9-4957-8430-42ba44dd7ccf"
      },
      "outputs": [
        {
          "name": "stdout",
          "output_type": "stream",
          "text": [
            "[1, 6, 9]\n"
          ]
        }
      ],
      "source": [
        "print([a[0, 0], a[1, 1], a[2, 0]])"
      ]
    },
    {
      "cell_type": "code",
      "execution_count": null,
      "metadata": {
        "colab": {
          "base_uri": "https://localhost:8080/",
          "height": 102
        },
        "id": "52Fvz_REqmx6",
        "outputId": "3f7c22e4-e483-449f-9bab-d07b0dab3a1d"
      },
      "outputs": [
        {
          "name": "stdout",
          "output_type": "stream",
          "text": [
            "[[False False]\n",
            " [ True  True]\n",
            " [ True  True]]\n",
            "[3 4 5 6]\n",
            "[3 4 5 6]\n"
          ]
        }
      ],
      "source": [
        "a = np.array([[1,2], [3, 4], [5, 6]])\n",
        "\n",
        "bool_idx = (a > 2)\n",
        "\n",
        "print(bool_idx)      # Prints \"[[False False]\n",
        "                     #          [ True  True]\n",
        "                     #          [ True  True]]\"\n",
        "\n",
        "\n",
        "print(a[bool_idx])  # Prints \"[3 4 5 6]\"\n",
        "\n",
        "print(a[a > 2])     # Prints \"[3 4 5 6]\"\n",
        "\n",
        "\n"
      ]
    },
    {
      "cell_type": "code",
      "execution_count": null,
      "metadata": {
        "colab": {
          "base_uri": "https://localhost:8080/",
          "height": 461
        },
        "id": "Eb8Vu9UstO21",
        "outputId": "13e51e57-272b-4b22-aceb-4205aa401770"
      },
      "outputs": [
        {
          "name": "stdout",
          "output_type": "stream",
          "text": [
            "Original array : \n",
            " [0 1 2 3 4 5 6 7]\n",
            "\n",
            "array reshaped with 2 rows and 2 columns : \n",
            " [[0 1]\n",
            " [2 3]]\n",
            "\n",
            "array reshaped with 4 rows and 2 columns : \n",
            " [[0 1]\n",
            " [2 3]\n",
            " [4 5]\n",
            " [6 7]]\n",
            "\n",
            "array reshaped with 2 rows and 4 columns : \n",
            " [[0 1 2 3]\n",
            " [4 5 6 7]]\n",
            "\n",
            "Original array reshaped to 3D : \n",
            " [[[0 1]\n",
            "  [2 3]]\n",
            "\n",
            " [[4 5]\n",
            "  [6 7]]]\n"
          ]
        }
      ],
      "source": [
        "array = np.arange(8)\n",
        "print(\"Original array : \\n\", array)\n",
        "\n",
        "# shape array com 2 linhas e 2 colunas\n",
        "array = np.arange(4).reshape(2, 2)\n",
        "print(\"\\narray reshaped with 2 rows and 2 columns : \\n\", array)\n",
        "\n",
        "# shape array com 4 linhas e 2 colunas\n",
        "array = np.arange(8).reshape(4, 2)\n",
        "print(\"\\narray reshaped with 4 rows and 2 columns : \\n\", array)\n",
        "\n",
        "# shape array com 2 linhas e 4 colunas\n",
        "array = np.arange(8).reshape(2 ,4)\n",
        "print(\"\\narray reshaped with 2 rows and 4 columns : \\n\", array)\n",
        "\n",
        "# array 3D\n",
        "array = np.arange(8).reshape(2, 2, 2)\n",
        "print(\"\\nOriginal array reshaped to 3D : \\n\", array)\n"
      ]
    },
    {
      "cell_type": "code",
      "execution_count": null,
      "metadata": {
        "id": "bUcWJ8K--Swf",
        "outputId": "7279fffe-35f2-471d-eed8-529db788ce82"
      },
      "outputs": [
        {
          "name": "stdout",
          "output_type": "stream",
          "text": [
            "[[0 0 0]\n",
            " [0 0 0]\n",
            " [0 0 0]\n",
            " [0 0 0]]\n",
            "[[ 2  2  4]\n",
            " [ 5  5  7]\n",
            " [ 8  8 10]\n",
            " [11 11 13]]\n"
          ]
        }
      ],
      "source": [
        "x = np.array([[1,2,3], [4,5,6], [7,8,9], [10, 11, 12]])\n",
        "v = np.array([1, 0, 1])\n",
        "y = np.empty_like(x)   # cria uma matriz vazia do mesmo shape que x\n",
        "\n",
        "print (y)\n",
        "\n",
        "# Add o vetor v a cada linha da matrix x com o loop\n",
        "for i in range(4):\n",
        "    y[i, :] = x[i, :] + v\n",
        "\n",
        "# y\n",
        "# [[ 2  2  4]\n",
        "#  [ 5  5  7]\n",
        "#  [ 8  8 10]\n",
        "#  [11 11 13]]\n",
        "print(y)\n",
        "\n"
      ]
    },
    {
      "cell_type": "code",
      "execution_count": null,
      "metadata": {
        "id": "lMqJa8G5x7kO"
      },
      "outputs": [],
      "source": []
    }
  ],
  "metadata": {
    "kernelspec": {
      "display_name": "Python 3 (ipykernel)",
      "language": "python",
      "name": "python3"
    },
    "language_info": {
      "codemirror_mode": {
        "name": "ipython",
        "version": 3
      },
      "file_extension": ".py",
      "mimetype": "text/x-python",
      "name": "python",
      "nbconvert_exporter": "python",
      "pygments_lexer": "ipython3",
      "version": "3.9.7"
    },
    "colab": {
      "provenance": [],
      "include_colab_link": true
    }
  },
  "nbformat": 4,
  "nbformat_minor": 0
}